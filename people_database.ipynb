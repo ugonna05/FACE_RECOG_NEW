{
 "cells": [
  {
   "cell_type": "code",
   "execution_count": 1,
   "id": "0b991897",
   "metadata": {},
   "outputs": [],
   "source": [
    "import os\n",
    "import cv2\n",
    "import face_recognition\n",
    "import glob \n",
    "import numpy as np\n",
    "import time\n",
    "from scipy.spatial import distance as dist"
   ]
  },
  {
   "cell_type": "code",
   "execution_count": 2,
   "id": "296ebab4",
   "metadata": {},
   "outputs": [],
   "source": [
    "img_path = 'images'    "
   ]
  },
  {
   "cell_type": "code",
   "execution_count": 3,
   "id": "b2df26e7",
   "metadata": {},
   "outputs": [],
   "source": [
    "known_face_encodings = []\n",
    "known_face_names = []\n",
    "\n",
    "def load_encoding_images(images_path):\n",
    "  \n",
    "        # Store image encoding and names\n",
    "    for img_path in glob.glob(images_path +'/*'):\n",
    "        img = cv2.imread(img_path)\n",
    "        rgb_img = cv2.cvtColor(img, cv2.COLOR_BGR2RGB)\n",
    "        \n",
    "        \n",
    "        name = os.path.splitext(os.path.basename(img_path))[0]\n",
    "          \n",
    "        img_encoding = face_recognition.face_encodings(rgb_img)[0]\n",
    "\n",
    "            # Store file name and file encoding\n",
    "        known_face_encodings.append(img_encoding)\n",
    "        known_face_names.append(name)\n",
    "    print(\"Encoding images loaded\")\n"
   ]
  },
  {
   "cell_type": "code",
   "execution_count": 4,
   "id": "69159805",
   "metadata": {},
   "outputs": [
    {
     "name": "stdout",
     "output_type": "stream",
     "text": [
      "Encoding images loaded\n"
     ]
    }
   ],
   "source": [
    "load_encoding_images(img_path)"
   ]
  },
  {
   "cell_type": "code",
   "execution_count": 5,
   "id": "9e9a52f2",
   "metadata": {},
   "outputs": [
    {
     "data": {
      "text/plain": [
       "list"
      ]
     },
     "execution_count": 5,
     "metadata": {},
     "output_type": "execute_result"
    }
   ],
   "source": [
    "type(known_face_encodings)"
   ]
  },
  {
   "cell_type": "code",
   "execution_count": 6,
   "id": "e8fdba48",
   "metadata": {},
   "outputs": [],
   "source": [
    "#converting people to dictionary\n",
    "people = {known_face_names[i]:known_face_encodings[i] for i in range(len(known_face_encodings))}\n"
   ]
  },
  {
   "cell_type": "code",
   "execution_count": 7,
   "id": "930c7731",
   "metadata": {},
   "outputs": [],
   "source": [
    "import pickle\n",
    "\n",
    "peopledb = open('peopledb', 'ab')\n",
    "\n",
    "pickle.dump(people, peopledb)\n",
    "peopledb.close()"
   ]
  }
 ],
 "metadata": {
  "kernelspec": {
   "display_name": "Python 3 (ipykernel)",
   "language": "python",
   "name": "python3"
  },
  "language_info": {
   "codemirror_mode": {
    "name": "ipython",
    "version": 3
   },
   "file_extension": ".py",
   "mimetype": "text/x-python",
   "name": "python",
   "nbconvert_exporter": "python",
   "pygments_lexer": "ipython3",
   "version": "3.8.3"
  }
 },
 "nbformat": 4,
 "nbformat_minor": 5
}
